{
 "cells": [
  {
   "cell_type": "markdown",
   "metadata": {},
   "source": [
    "     co-ordinate geometry :"
   ]
  },
  {
   "cell_type": "code",
   "execution_count": 1,
   "metadata": {},
   "outputs": [],
   "source": [
    "class Point:\n",
    "    def __init__(self, x_coord , y_coord):\n",
    "        #self.x is the variable\n",
    "        self.x = x_coord\n",
    "        self.y = y_coord\n",
    "    # craeting how point will be seen   \n",
    "    def __str__(self):\n",
    "        return '({},{})'.format(self.x,self.y) \n",
    "    \n",
    "\n",
    "    # distance finding method\n",
    "    def eucladian_distance(self, other):\n",
    "        # 'other' is second point\n",
    "        return ((other.x - self.x)**2 + (other.y - self.y)**2) ** 0.5\n",
    "    \n",
    "    # distance form origin\n",
    "    def dist_from_origin(self):\n",
    "        # alternate code\n",
    "        # retrun (self.x**2 +self.y ** 2)**0.5\n",
    "        # calling the other method of the same class \n",
    "        return self.eucladian_distance(Point(0,0))"
   ]
  },
  {
   "cell_type": "code",
   "execution_count": 2,
   "metadata": {},
   "outputs": [],
   "source": [
    "# checking if a given point exists on a line or not\n",
    "class Line:\n",
    "    # equation of the line is - Ax + By + c = 0 -> a , b , c are taken from the user\n",
    "    def __init__(self, a ,b ,c):\n",
    "        self.A = a\n",
    "        self.B = b\n",
    "        self.C = c\n",
    "\n",
    "    # method to show the equation of the line\n",
    "    def __str__(self):\n",
    "        return f'{self.A}x + ({self.B}y) + ({self.C}) = 0'\n",
    "    \n",
    "    # method to check if the point exists or not\n",
    "\n",
    "    def point_on_line(line , point):\n",
    "        if line.A * point.x + line.B * point.y + line.C == 0:\n",
    "            return f'({point.x},{point.y}) exists on the line'\n",
    "        else:\n",
    "            return 'does not exist on the line'\n",
    "\n",
    "    # distance between a given point and a line    \n",
    "    def shortest_distance(line,point):\n",
    "        return abs(((line.A * point.x) + (line.B * point.y) + line.C)) /(line.A**2 + line.B**2)**0.5"
   ]
  }
 ],
 "metadata": {
  "kernelspec": {
   "display_name": "Python 3",
   "language": "python",
   "name": "python3"
  },
  "language_info": {
   "codemirror_mode": {
    "name": "ipython",
    "version": 3
   },
   "file_extension": ".py",
   "mimetype": "text/x-python",
   "name": "python",
   "nbconvert_exporter": "python",
   "pygments_lexer": "ipython3",
   "version": "3.12.4"
  }
 },
 "nbformat": 4,
 "nbformat_minor": 2
}
