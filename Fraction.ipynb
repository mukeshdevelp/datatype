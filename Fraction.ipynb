{
 "cells": [
  {
   "cell_type": "markdown",
   "metadata": {},
   "source": [
    "\n",
    "    Creating Fraction data type:"
   ]
  },
  {
   "cell_type": "code",
   "execution_count": null,
   "metadata": {},
   "outputs": [],
   "source": [
    "class Fraction:\n",
    "    #parameterized constructor - needs input while creating object\n",
    "    def __init__(self, x , y):\n",
    "        self.num = x\n",
    "        self.deno = y\n",
    "    #for printing the object\n",
    "    def __str__(self):\n",
    "        # returns a string\n",
    "        return '{}/{}'.format(self.num , self.deno)\n",
    "\n",
    "    # addition\n",
    "    def __add__(self, ohter):\n",
    "        # other = 2nd fraction\n",
    "        # invoked when you add your frc1 + frc2 - + operator dalte hi invoke hoga\n",
    "        new_num = ((self.num * ohter.deno) + (self.deno * ohter.num))\n",
    "        new_deno = (self.deno * ohter.deno)\n",
    "        new_frc = '{}/{}'.format(new_num , new_deno)\n",
    "        return new_frc\n",
    "    \n",
    "    def __sub__(self ,other):\n",
    "        #executed when you use '-' oprand in your two fractions\n",
    "        new_num = ((self.num * other.deno) - (self.deno * other.num))\n",
    "        new_deno = (self.deno * other.deno)\n",
    "        new_frc = '{}/{}'.format(new_num , new_deno)\n",
    "        return new_frc\n",
    "    \n",
    "    def __mul__(self, other):\n",
    "\n",
    "        #executed when you use '*' oprand in your two fractions\n",
    "        new_num = self.num * other.num\n",
    "        new_deno = self.deno * other.deno\n",
    "        new_frc = '{}/{}'.format(new_num, new_deno)\n",
    "        return new_frc\n",
    "\n",
    "    def __truediv__(self,other):\n",
    "        #executed when you use '/' oprand in your two fractions\n",
    "        new_num = self.num * other.deno\n",
    "        new_deno = self.deno * other.num\n",
    "        new_frac = '{}/{}'.format(new_num, new_deno)\n",
    "        return new_frac"
   ]
  }
 ],
 "metadata": {
  "language_info": {
   "name": "python"
  }
 },
 "nbformat": 4,
 "nbformat_minor": 2
}
